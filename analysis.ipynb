{
 "cells": [
  {
   "cell_type": "markdown",
   "id": "facial-community",
   "metadata": {},
   "source": [
    "# Buenos Aires Housing Data"
   ]
  },
  {
   "cell_type": "code",
   "execution_count": null,
   "id": "biological-sister",
   "metadata": {},
   "outputs": [],
   "source": [
    "import pandas as pd\n",
    "from sklearn.metrics import mean_absolute_error\n",
    "from sklearn.pipeline import make_pipeline\n",
    "from sklearn.linear_model import Ridge\n",
    "from sklearn.ensemble import RandomForestRegressor\n",
    "from sklearn.impute import SimpleImputer\n",
    "from category_encoders import OneHotEncoder, OrdinalEncoder"
   ]
  },
  {
   "cell_type": "markdown",
   "id": "realistic-offset",
   "metadata": {},
   "source": [
    "# I. Wrangle Data"
   ]
  },
  {
   "cell_type": "code",
   "execution_count": null,
   "id": "aggregate-trace",
   "metadata": {},
   "outputs": [],
   "source": [
    "def wrangle(filepath):\n",
    "    df = pd.read_csv(filepath, \n",
    "                     parse_dates=['created_on'],\n",
    "                     index_col='created_on')\n",
    "    \n",
    "    # Unpack lat-long\n",
    "    df[['lat', 'long']] = df['lat-lon'].str.split(',', expand=True).astype(float)\n",
    "    \n",
    "    # Create neighborhood\n",
    "    df['neighborhood'] = df['place_with_parent_names'].str.split('|').apply(lambda x: x[-2])\n",
    "    \n",
    "    df.drop(columns=['operation', 'lat-lon', 'price', \n",
    "                     'currency', 'price_aprox_local_currency',\n",
    "                     'price_usd_per_m2', 'price_per_m2',\n",
    "                     'properati_url', 'description', 'title',\n",
    "                     'image_thumbnail', 'place_with_parent_names'], inplace=True)\n",
    "    \n",
    "    # Drop rows with no target\n",
    "    df.dropna(axis=0, subset=['price_aprox_usd'], inplace=True)\n",
    "    \n",
    "    mask = df['price_aprox_usd'] < 750_000\n",
    "    df = df[mask]\n",
    "    \n",
    "    return df"
   ]
  },
  {
   "cell_type": "code",
   "execution_count": null,
   "id": "coastal-alexandria",
   "metadata": {},
   "outputs": [],
   "source": [
    "df = wrangle('data/argentina-real-estate/buenos-aires-1.csv')"
   ]
  },
  {
   "cell_type": "code",
   "execution_count": null,
   "id": "improved-prescription",
   "metadata": {},
   "outputs": [],
   "source": [
    "df['price_aprox_usd'].hist()"
   ]
  },
  {
   "cell_type": "markdown",
   "id": "urban-momentum",
   "metadata": {},
   "source": [
    "# II. Split Data"
   ]
  },
  {
   "cell_type": "code",
   "execution_count": null,
   "id": "variable-lunch",
   "metadata": {},
   "outputs": [],
   "source": [
    "target = 'price_aprox_usd'\n",
    "y = df[target]\n",
    "X = df.drop(columns=target)"
   ]
  },
  {
   "cell_type": "code",
   "execution_count": null,
   "id": "mental-terror",
   "metadata": {},
   "outputs": [],
   "source": [
    "mask = df.index.year >= 2015\n",
    "\n",
    "X_train, y_train = X.loc[~mask], y.loc[~mask]\n",
    "X_test, y_test = X.loc[mask], y.loc[mask]"
   ]
  },
  {
   "cell_type": "markdown",
   "id": "significant-sodium",
   "metadata": {},
   "source": [
    "# III. Establish Baseline"
   ]
  },
  {
   "cell_type": "code",
   "execution_count": null,
   "id": "variable-fashion",
   "metadata": {},
   "outputs": [],
   "source": [
    "print('Mean property price:', y_train.mean())\n",
    "y_pred = [y_train.mean()] * len(y_train)\n",
    "print('Baseline MAE:', mean_absolute_error(y_train, y_pred))"
   ]
  },
  {
   "cell_type": "markdown",
   "id": "prompt-equivalent",
   "metadata": {},
   "source": [
    "# IV. Build Model"
   ]
  },
  {
   "cell_type": "code",
   "execution_count": null,
   "id": "residential-carol",
   "metadata": {},
   "outputs": [],
   "source": [
    "model = make_pipeline(\n",
    "    OneHotEncoder(use_cat_names=True),\n",
    "    SimpleImputer(strategy='median'),\n",
    "    Ridge(alpha=40)\n",
    ")\n",
    "\n",
    "model.fit(X_train, y_train);"
   ]
  },
  {
   "cell_type": "markdown",
   "id": "rising-framework",
   "metadata": {},
   "source": [
    "# V. Check Metrics"
   ]
  },
  {
   "cell_type": "code",
   "execution_count": null,
   "id": "classified-composer",
   "metadata": {},
   "outputs": [],
   "source": [
    "print('Training MAE:', mean_absolute_error(y_train, model.predict(X_train)))\n",
    "print('Test MAE:', mean_absolute_error(y_test, model.predict(X_test)))"
   ]
  },
  {
   "cell_type": "code",
   "execution_count": null,
   "id": "monthly-sussex",
   "metadata": {},
   "outputs": [],
   "source": []
  }
 ],
 "metadata": {
  "kernelspec": {
   "display_name": "Python 3",
   "language": "python",
   "name": "python3"
  },
  "language_info": {
   "codemirror_mode": {
    "name": "ipython",
    "version": 3
   },
   "file_extension": ".py",
   "mimetype": "text/x-python",
   "name": "python",
   "nbconvert_exporter": "python",
   "pygments_lexer": "ipython3",
   "version": "3.8.5"
  }
 },
 "nbformat": 4,
 "nbformat_minor": 5
}
